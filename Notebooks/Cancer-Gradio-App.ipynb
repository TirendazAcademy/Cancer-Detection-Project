{
  "nbformat": 4,
  "nbformat_minor": 0,
  "metadata": {
    "colab": {
      "provenance": [],
      "authorship_tag": "ABX9TyMi4c9/yGYqAyFPUgO4ULnu",
      "include_colab_link": true
    },
    "kernelspec": {
      "name": "python3",
      "display_name": "Python 3"
    },
    "language_info": {
      "name": "python"
    }
  },
  "cells": [
    {
      "cell_type": "markdown",
      "metadata": {
        "id": "view-in-github",
        "colab_type": "text"
      },
      "source": [
        "<a href=\"https://colab.research.google.com/github/TirendazAcademy/Cancer-Detection-Project/blob/main/Cancer_Gradio_App.ipynb\" target=\"_parent\"><img src=\"https://colab.research.google.com/assets/colab-badge.svg\" alt=\"Open In Colab\"/></a>"
      ]
    },
    {
      "cell_type": "code",
      "source": [
        "!pip install gradio -q\n",
        "!pip install comet_ml -q"
      ],
      "metadata": {
        "id": "RhL1zspOQkuJ"
      },
      "execution_count": null,
      "outputs": []
    },
    {
      "cell_type": "code",
      "execution_count": null,
      "metadata": {
        "id": "SxI1vgICV__x"
      },
      "outputs": [],
      "source": [
        "import comet_ml\n",
        "import torch\n",
        "from torch import nn\n",
        "from torchvision import transforms\n",
        "from torchvision.models import resnet50, ResNet50_Weights\n",
        "import gradio as gr"
      ]
    },
    {
      "cell_type": "code",
      "source": [
        "title = \"Cancer Detection\"\n",
        "description = \"Image classification with histopathologic images\"\n",
        "article = \"<p style='text-align: center'><a href='https://github.com/TirendazAcademy'>Github Repo</a></p>\""
      ],
      "metadata": {
        "id": "66bwR4VeWFoX"
      },
      "execution_count": null,
      "outputs": []
    },
    {
      "cell_type": "code",
      "source": [
        "# The model architecture\n",
        "class ImageClassifier(nn.Module):\n",
        "    def __init__(self):\n",
        "        super().__init__()\n",
        "        self.pretrain_model = resnet50(weights=ResNet50_Weights.DEFAULT)\n",
        "        self.pretrain_model.eval()\n",
        "        for param in self.pretrain_model.parameters():\n",
        "            param.requires_grad = False       \n",
        "        self.pretrain_model.fc = nn.Sequential(\n",
        "            nn.Linear(self.pretrain_model.fc.in_features, 1024),\n",
        "            nn.ReLU(),\n",
        "            nn.Dropout(),\n",
        "            nn.Linear(1024,2)\n",
        "        )\n",
        "    def forward(self, input):\n",
        "        output=self.pretrain_model(input)\n",
        "        return output"
      ],
      "metadata": {
        "id": "zRBaCF__XISH"
      },
      "execution_count": null,
      "outputs": []
    },
    {
      "cell_type": "code",
      "source": [
        "from comet_ml import API\n",
        "api = API(api_key= \"your-api-key\")"
      ],
      "metadata": {
        "id": "6gwAe_DaTIiq"
      },
      "execution_count": null,
      "outputs": []
    },
    {
      "cell_type": "code",
      "source": [
        "# Download a Registry Model:\n",
        "api.download_registry_model(\"tirendaz\", \"my-pl-model\", \"1.0.0\", output_path=\"./\", expand=True)"
      ],
      "metadata": {
        "id": "nCkH8Lp3TtQa",
        "colab": {
          "base_uri": "https://localhost:8080/"
        },
        "outputId": "3442e832-38d6-4820-b18f-8bf09959e36d"
      },
      "execution_count": null,
      "outputs": [
        {
          "output_type": "stream",
          "name": "stderr",
          "text": [
            "\u001b[1;38;5;39mCOMET INFO:\u001b[0m Downloading registry model 'my-pl-model', version '1.0.0', stage None from workspace 'tirendaz'...\n",
            "\u001b[1;38;5;39mCOMET INFO:\u001b[0m Unzipping model to '/content' ...\n",
            "\u001b[1;38;5;39mCOMET INFO:\u001b[0m done!\n"
          ]
        }
      ]
    },
    {
      "cell_type": "code",
      "source": [
        "# Loading the model\n",
        "model = ImageClassifier()\n",
        "model.load_state_dict(torch.load('/content/model-data/comet-torch-model.pth'))"
      ],
      "metadata": {
        "id": "yiLHtC1cWLDf",
        "colab": {
          "base_uri": "https://localhost:8080/"
        },
        "outputId": "35c1bd2f-6ec7-4bd8-8b63-e1dfaf75e0e1"
      },
      "execution_count": null,
      "outputs": [
        {
          "output_type": "execute_result",
          "data": {
            "text/plain": [
              "<All keys matched successfully>"
            ]
          },
          "metadata": {},
          "execution_count": 16
        }
      ]
    },
    {
      "cell_type": "code",
      "source": [
        "def predict(inp):\n",
        "    image_transform = transforms.Compose([ transforms.Resize(size=(224,224)), transforms.ToTensor()])\n",
        "    labels = ['normal', 'cancer']\n",
        "    inp = image_transform(inp).unsqueeze(dim=0)\n",
        "    with torch.no_grad():\n",
        "        prediction = torch.nn.functional.softmax(model(inp))\n",
        "        confidences = {labels[i]: float(prediction.squeeze()[i]) for i in range(len(labels))}    \n",
        "    return confidences"
      ],
      "metadata": {
        "id": "zhESY3khWNx8"
      },
      "execution_count": null,
      "outputs": []
    },
    {
      "cell_type": "code",
      "source": [
        "gr.Interface(fn=predict, \n",
        "             inputs=gr.Image(type=\"pil\"),\n",
        "             outputs=gr.Label(num_top_classes=2),\n",
        "             title=title,\n",
        "             description=description,\n",
        "             article=article,\n",
        "             examples=['image-1.jpg', 'image-2.jpg']).launch()"
      ],
      "metadata": {
        "id": "31VfTKTBWPwi",
        "colab": {
          "base_uri": "https://localhost:8080/",
          "height": 617
        },
        "outputId": "782e5cab-847e-438a-aa46-f00bf68bd3f1"
      },
      "execution_count": null,
      "outputs": [
        {
          "output_type": "stream",
          "name": "stdout",
          "text": [
            "Colab notebook detected. To show errors in colab notebook, set debug=True in launch()\n",
            "Note: opening Chrome Inspector may crash demo inside Colab notebooks.\n",
            "\n",
            "To create a public link, set `share=True` in `launch()`.\n"
          ]
        },
        {
          "output_type": "display_data",
          "data": {
            "text/plain": [
              "<IPython.core.display.Javascript object>"
            ],
            "application/javascript": [
              "(async (port, path, width, height, cache, element) => {\n",
              "                        if (!google.colab.kernel.accessAllowed && !cache) {\n",
              "                            return;\n",
              "                        }\n",
              "                        element.appendChild(document.createTextNode(''));\n",
              "                        const url = await google.colab.kernel.proxyPort(port, {cache});\n",
              "\n",
              "                        const external_link = document.createElement('div');\n",
              "                        external_link.innerHTML = `\n",
              "                            <div style=\"font-family: monospace; margin-bottom: 0.5rem\">\n",
              "                                Running on <a href=${new URL(path, url).toString()} target=\"_blank\">\n",
              "                                    https://localhost:${port}${path}\n",
              "                                </a>\n",
              "                            </div>\n",
              "                        `;\n",
              "                        element.appendChild(external_link);\n",
              "\n",
              "                        const iframe = document.createElement('iframe');\n",
              "                        iframe.src = new URL(path, url).toString();\n",
              "                        iframe.height = height;\n",
              "                        iframe.allow = \"autoplay; camera; microphone; clipboard-read; clipboard-write;\"\n",
              "                        iframe.width = width;\n",
              "                        iframe.style.border = 0;\n",
              "                        element.appendChild(iframe);\n",
              "                    })(7863, \"/\", \"100%\", 500, false, window.element)"
            ]
          },
          "metadata": {}
        },
        {
          "output_type": "execute_result",
          "data": {
            "text/plain": []
          },
          "metadata": {},
          "execution_count": 18
        }
      ]
    }
  ]
}